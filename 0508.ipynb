{
  "nbformat": 4,
  "nbformat_minor": 0,
  "metadata": {
    "colab": {
      "provenance": [],
      "authorship_tag": "ABX9TyNJ/yoPwbfq8+48ElMlYPg6",
      "include_colab_link": true
    },
    "kernelspec": {
      "name": "python3",
      "display_name": "Python 3"
    },
    "language_info": {
      "name": "python"
    }
  },
  "cells": [
    {
      "cell_type": "markdown",
      "metadata": {
        "id": "view-in-github",
        "colab_type": "text"
      },
      "source": [
        "<a href=\"https://colab.research.google.com/github/timwu1028/TKU-AI-412571365/blob/main/0508.ipynb\" target=\"_parent\"><img src=\"https://colab.research.google.com/assets/colab-badge.svg\" alt=\"Open In Colab\"/></a>"
      ]
    },
    {
      "cell_type": "code",
      "execution_count": null,
      "metadata": {
        "colab": {
          "base_uri": "https://localhost:8080/"
        },
        "id": "ICohpvnmE7QD",
        "outputId": "cd6daaf9-eb71-4860-a4fe-c69b88ce4f91"
      },
      "outputs": [
        {
          "output_type": "stream",
          "name": "stdout",
          "text": [
            "你年齡太小\n",
            "需要年滿20歲才可以購買菸酒\n"
          ]
        }
      ],
      "source": [
        "age=18\n",
        "if(age<20):\n",
        "  print('你年齡太小')\n",
        "  print('需要年滿20歲才可以購買菸酒')"
      ]
    },
    {
      "cell_type": "code",
      "source": [
        "age=input('請輸入年齡')\n",
        "if(int(age)<20):\n",
        "  print('你年齡太小')\n",
        "  print('需要年滿20歲才可以購買菸酒')\n",
        "else:\n",
        "  print('歡迎購買菸酒')"
      ],
      "metadata": {
        "colab": {
          "base_uri": "https://localhost:8080/"
        },
        "id": "2Xb7n-JOFihH",
        "outputId": "01ba4290-cbf2-4a6c-f726-7a2d48eb70ee"
      },
      "execution_count": null,
      "outputs": [
        {
          "output_type": "stream",
          "name": "stdout",
          "text": [
            "請輸入年齡20\n",
            "歡迎購買菸酒\n"
          ]
        }
      ]
    },
    {
      "cell_type": "code",
      "source": [
        "print('計算最終成績')\n",
        "score=input('請輸入分數')\n",
        "sc=int(score)\n",
        "if(sc>=90):\n",
        "  print('A')\n",
        "elif(sc>=80):\n",
        "  print('B')\n",
        "elif(sc>=70):\n",
        "  print('C')\n",
        "elif(sc>=60):\n",
        "  print('D')\n",
        "else:\n",
        "  print('F')"
      ],
      "metadata": {
        "colab": {
          "base_uri": "https://localhost:8080/"
        },
        "id": "etkDdKK1Gi5E",
        "outputId": "18718802-eca2-4740-c652-a0b3e443e2c0"
      },
      "execution_count": null,
      "outputs": [
        {
          "output_type": "stream",
          "name": "stdout",
          "text": [
            "計算最終成績\n",
            "請輸入分數90\n",
            "A\n"
          ]
        }
      ]
    },
    {
      "cell_type": "code",
      "source": [
        "print('判斷季節')\n",
        "b=input('請輸入月份')\n",
        "if(b=3,4,5):\n",
        "   print(b'是春天')\n",
        "elif(b=6,7,8):\n",
        "   print(b'是夏天')\n",
        "elif b=9,10,11:\n",
        "   print(b'是秋天')\n",
        "elif b=12,1,2:\n",
        "   print(b'是冬天')\n",
        "else:\n",
        "    print('月份不再範圍內!)"
      ],
      "metadata": {
        "id": "8OtusI5sH2I_"
      },
      "execution_count": null,
      "outputs": []
    },
    {
      "cell_type": "code",
      "source": [
        "print('判斷體溫')\n",
        "a=input('請輸入體溫')\n",
        "if(a>=37.5):\n",
        "   print('體溫過高!')\n",
        "elif(37.4>a>37):\n",
        "   print('體溫略高!')\n",
        "elif 36.9 > a > 34:\n",
        "   print('體溫正常!')\n",
        "else:\n",
        "    print('體溫異常，請重新測量!')"
      ],
      "metadata": {
        "id": "UUs-CiPa4r8c",
        "colab": {
          "base_uri": "https://localhost:8080/"
        },
        "outputId": "6e99ca0d-3572-47ee-b401-162ba1e04d41"
      },
      "execution_count": null,
      "outputs": [
        {
          "output_type": "stream",
          "name": "stdout",
          "text": [
            "判斷體溫\n"
          ]
        }
      ]
    }
  ]
}